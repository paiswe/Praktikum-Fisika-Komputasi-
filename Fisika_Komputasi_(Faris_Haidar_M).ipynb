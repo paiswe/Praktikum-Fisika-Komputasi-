{
  "nbformat": 4,
  "nbformat_minor": 0,
  "metadata": {
    "colab": {
      "provenance": [],
      "collapsed_sections": []
    },
    "kernelspec": {
      "name": "python3",
      "display_name": "Python 3"
    },
    "language_info": {
      "name": "python"
    }
  },
  "cells": [
    {
      "cell_type": "code",
      "execution_count": 24,
      "metadata": {
        "colab": {
          "base_uri": "https://localhost:8080/"
        },
        "id": "5k_qAm8rA0z-",
        "outputId": "dfc5bf63-ec8c-48a3-d6dc-8e0722e50bd3"
      },
      "outputs": [
        {
          "output_type": "stream",
          "name": "stdout",
          "text": [
            "250.0\n",
            "Bilangan integer = 2\n",
            "Bilangan float = 2.5\n",
            "Bilangan float = 5.0\n",
            "Bilangan integer = 5\n",
            "Penjumlahan a + c = 55.0\n",
            "Perkalian a x c= 250.0\n",
            "Pengurangan a - c= 45.0\n",
            "Pembagian a/c 10.0\n",
            "--------------------------------\n",
            "Soal 1 = tentukan energi J dari m = 9.31x10^-31; c = 3x10^8\n",
            "8.379e-14\n",
            "--------------------------------\n",
            "Soal 2 = tentukan periode dalam s (l = 1.5 m ; g = 9.8 m/s^2 \n",
            "2.458173089805204\n",
            "Soal 3 = tentukan jarak(s) tempuh motor Ucok dari Bandung ke Sumedang (t = 10 s ; v = 70 m/s \n",
            "Jarak yang ditempuh = 7.0\n"
          ]
        }
      ],
      "source": [
        "from math import sqrt\n",
        "from numpy import *\n",
        "#Operasi perhitungan sederhana\n",
        "a = 50\n",
        "b = 2.5\n",
        "c = 15/3\n",
        "\n",
        "print(a*c)\n",
        "print(\"Bilangan integer =\", int(b))\n",
        "print(\"Bilangan float =\", float(b))\n",
        "print(\"Bilangan float =\", float(c))\n",
        "print(\"Bilangan integer =\", int(c))\n",
        "\n",
        "print(\"Penjumlahan a + c =\", a+c)\n",
        "print(\"Perkalian a x c=\", a*c)\n",
        "print(\"Pengurangan a - c=\", a-c)\n",
        "print(\"Pembagian a/c\", a/c)\n",
        "\n",
        "print(\"--------------------------------\")\n",
        "print(\"Soal 1 = tentukan energi J dari m = 9.31x10^-31; c = 3x10^8\")\n",
        "m = 9.31*10**-31\n",
        "c = 3*10**8\n",
        "#Energi = m x c^2\n",
        "E = m * c**2\n",
        "print(E)\n",
        "\n",
        "print(\"--------------------------------\")\n",
        "print(\"Soal 2 = tentukan periode dalam s (l = 1.5 m ; g = 9.8 m/s^2 \")\n",
        "l = 1.5\n",
        "g = 9.8\n",
        "periode = 2*pi*sqrt(l/g)\n",
        "print(periode)\n",
        "\n",
        "print(\"Soal 3 = tentukan jarak(s) tempuh motor Ucok dari Bandung ke Sumedang (t = 10 s ; v = 70 m/s \")\n",
        "t = 10\n",
        "v = 70\n",
        "# s = v/t\n",
        "s = v/t\n",
        "print(\"Jarak yang ditempuh =\", float (s))"
      ]
    },
    {
      "cell_type": "code",
      "source": [
        "import matplotlib.pyplot as plt\n",
        "from numpy import arange,sin,cos\n",
        "\n",
        "x = arange(0.0,0.6,0.1)\n",
        "plt.plot(x,sin(x),'o-',x,cos(x),'s-')\n",
        "plt.title('grafik')\n",
        "plt.xlabel('x')\n",
        "plt.ylabel('y')\n",
        "plt.legend(('sinus','cosinus'),loc = 0)\n",
        "plt.grid(True)\n",
        "plt.show()"
      ],
      "metadata": {
        "colab": {
          "base_uri": "https://localhost:8080/",
          "height": 295
        },
        "id": "dqVhCSi3Gh97",
        "outputId": "71951b47-d4ac-4658-d622-bbd176c93086"
      },
      "execution_count": 25,
      "outputs": [
        {
          "output_type": "display_data",
          "data": {
            "text/plain": [
              "<Figure size 432x288 with 1 Axes>"
            ],
            "image/png": "[encoded data removed]"
          },
          "metadata": {
            "needs_background": "light"
          }
        }
      ]
    }
  ]
}